{
 "cells": [
  {
   "cell_type": "code",
   "execution_count": 2,
   "metadata": {},
   "outputs": [],
   "source": [
    "import cv2\n",
    "import numpy as np\n",
    "DIGITS_LOOKUP = {\n",
    "\t(1, 1, 1, 0, 1, 1, 1): 0,\n",
    "\t(1, 1, 0, 0, 0, 0, 0): 1,\n",
    "\t(1, 0, 1, 1, 1, 0, 1 ): 2,\n",
    "\t(1, 0, 1, 1, 0, 1, 1): 3,\n",
    "\t(0, 1, 1, 1, 0, 1, 0): 4,\n",
    "\t(1, 1, 0, 1, 0, 1, 1): 5,\n",
    "\t(1, 1, 0, 1, 1, 1, 1): 6,\n",
    "\t(1, 0, 1, 0, 0, 1, 0): 7,\n",
    "\t(1, 1, 1, 1, 1, 1, 1): 8,\n",
    "\t(1, 1, 1, 1, 0, 1, 0): 9\n",
    "}\n",
    "\n"
   ]
  },
  {
   "cell_type": "code",
   "execution_count": 3,
   "metadata": {},
   "outputs": [],
   "source": [
    "def sort_contours(cnts, method=\"left-to-right\"):\n",
    "\t# initialize the reverse flag and sort index\n",
    "\treverse = False\n",
    "\ti = 0\n",
    "\t# handle if we need to sort in reverse\n",
    "\tif method == \"right-to-left\" or method == \"bottom-to-top\":\n",
    "\t\treverse = True\n",
    "\t# handle if we are sorting against the y-coordinate rather than\n",
    "\t# the x-coordinate of the bounding box\n",
    "\tif method == \"top-to-bottom\" or method == \"bottom-to-top\":\n",
    "\t\ti = 1\n",
    "\t# construct the list of bounding boxes and sort them from top to\n",
    "\t# bottom\n",
    "\tboundingBoxes = [cv2.boundingRect(c) for c in cnts]\n",
    "\t(cnts, boundingBoxes) = zip(*sorted(zip(cnts, boundingBoxes),\n",
    "\t\tkey=lambda b:b[1][i], reverse=reverse))\n",
    "\t# return the list of sorted contours and bounding boxes\n",
    "\treturn (cnts, boundingBoxes)\n",
    "def imagsdo(img):\n",
    "    imggray=cv2.cvtColor(img,cv2.COLOR_BGR2GRAY)\n",
    "    blur = cv2.GaussianBlur(imggray, (5, 5), 0)\n",
    "    _,thresh = cv2.threshold(imggray,110, 255,cv2.THRESH_BINARY)\n",
    "    kernel = np.ones((7,7), np.uint8) \n",
    "    img_dilation = cv2.dilate(thresh, kernel, iterations=1)\n",
    "    img2=img_dilation.copy()\n",
    "    contours,_ =cv2.findContours(img2,cv2.RETR_TREE,cv2.CHAIN_APPROX_SIMPLE)\n",
    "    img3=cv2.drawContours(img2,contours,-1,(0,255,255),15)\n",
    "    return img2\n",
    "    "
   ]
  },
  {
   "cell_type": "code",
   "execution_count": 4,
   "metadata": {},
   "outputs": [],
   "source": [
    "def imago(path):\n",
    "    img=cv2.imread(path)\n",
    "    imggray=cv2.cvtColor(img,cv2.COLOR_BGR2GRAY)\n",
    "    blur = cv2.GaussianBlur(imggray, (5, 5), 0)\n",
    "    _,thresh = cv2.threshold(imggray,110, 255,cv2.THRESH_BINARY)\n",
    "    kernel = np.ones((7,7), np.uint8) \n",
    "    img_dilation = cv2.dilate(thresh, kernel, iterations=1) \n",
    "    img2=img_dilation.copy()\n",
    "    contours,_ =cv2.findContours(img2,cv2.RETR_EXTERNAL,cv2.CHAIN_APPROX_NONE)\n",
    "    contours= sort_contours(contours)[0]\n",
    "    digits=[]\n",
    "    for c in contours:\n",
    "        (x,y,w,h)=cv2.boundingRect(c)\n",
    "        roi=img_dilation[y:y+h,x:x+w]\n",
    "        (roiH, roiW) = roi.shape\n",
    "        (dW, dH) = (int(w * 0.333), int(h * 0.26))\n",
    "       # print(roi.shape,dW,dH)\n",
    "        dHC = int(roiH * 0.05)\n",
    "        if w<30:\n",
    "            segments=[\n",
    "                ((0,0),(w,h//2)),\n",
    "                ((0,h//2),(w,h))\n",
    "            ]\n",
    "        else:    \n",
    "            segments = [\n",
    "            ((0, 0), (w, dH)),\t# top\n",
    "            ((0, 0), (dW, h // 2)),\t# top-left\n",
    "            ((w - dW, 0), (w, h // 2)),\t# top-right\n",
    "            ((0, (h // 2) - dHC) , (w, (h // 2) + dHC)),\n",
    "            ((0, h // 2), (dW, h)),\t# bottom-left\n",
    "            ((w - dW, h // 2), (w, h)),\t# bottom-right\n",
    "            ((0, h - dH), (w, h))\n",
    "            ]\n",
    "        #print(len(segments))\n",
    "        on = [0] * 7\n",
    "        #print(len(on))\n",
    "        for (i, ((xA, yA), (xB, yB))) in enumerate(segments):\n",
    "            segROI = roi[yA:yB, xA:xB]\n",
    "            total = cv2.countNonZero(segROI)\n",
    "            area = (xB - xA) * (yB - yA)\n",
    "            #print(total / float(area))\n",
    "            if total / float(area) > 0.56:\n",
    "                on[i]= 1\n",
    "                \n",
    "                #print(1)\n",
    "            #else:\n",
    "               #print(0)        \n",
    "            #cv2.imshow('imf',segROI)\n",
    "            #cv2.waitKey(0)\n",
    "            #cv2.destroyAllWindows()\n",
    "        digit = DIGITS_LOOKUP[tuple(on)]\n",
    "        digits.append(digit)\n",
    "   # print(digits)\n",
    "    x = int(\"\".join(map(str, digits)))\n",
    "    return x\n"
   ]
  },
  {
   "cell_type": "code",
   "execution_count": 5,
   "metadata": {},
   "outputs": [
    {
     "data": {
      "text/plain": [
       "[26, 15, 41, 390, 11, 21]"
      ]
     },
     "execution_count": 5,
     "metadata": {},
     "output_type": "execute_result"
    }
   ],
   "source": [
    "images=['Num1.jpg','Num2.jpg','A.jpg','B.jpg','C.jpg','D.jpg']\n",
    "dig=list(map(imago,images))\n",
    "dig"
   ]
  },
  {
   "cell_type": "code",
   "execution_count": 6,
   "metadata": {},
   "outputs": [],
   "source": [
    "def showimage(path):\n",
    "    img=cv2.imread(path)\n",
    "    cv2.imshow(\"show\",img)\n",
    "    cv2.waitKey(0)\n",
    "    cv2.destroyAllWindows()"
   ]
  },
  {
   "cell_type": "code",
   "execution_count": 19,
   "metadata": {},
   "outputs": [],
   "source": [
    "for i in images:\n",
    "    showimage(i)"
   ]
  },
  {
   "cell_type": "code",
   "execution_count": 7,
   "metadata": {},
   "outputs": [
    {
     "data": {
      "text/plain": [
       "{'Num1.jpg': 26,\n",
       " 'Num2.jpg': 15,\n",
       " 'A.jpg': 41,\n",
       " 'B.jpg': 390,\n",
       " 'C.jpg': 11,\n",
       " 'D.jpg': 21}"
      ]
     },
     "execution_count": 7,
     "metadata": {},
     "output_type": "execute_result"
    }
   ],
   "source": [
    "my_dic=dict(zip(images,dig))\n",
    "my_dic"
   ]
  },
  {
   "cell_type": "code",
   "execution_count": 8,
   "metadata": {},
   "outputs": [
    {
     "data": {
      "text/plain": [
       "41"
      ]
     },
     "execution_count": 8,
     "metadata": {},
     "output_type": "execute_result"
    }
   ],
   "source": [
    "my_dic['Num1.jpg']+my_dic['Num2.jpg']\n",
    "#img=cv2.imread(path)"
   ]
  },
  {
   "cell_type": "code",
   "execution_count": 9,
   "metadata": {},
   "outputs": [],
   "source": [
    "showimage(images[dig.index(my_dic['Num1.jpg']^my_dic['Num2.jpg'])])\n",
    "#xor operation"
   ]
  },
  {
   "cell_type": "code",
   "execution_count": 10,
   "metadata": {},
   "outputs": [],
   "source": [
    "showimage(images[dig.index(my_dic['Num1.jpg']+my_dic['Num2.jpg'])])\n",
    "#additon"
   ]
  },
  {
   "cell_type": "code",
   "execution_count": 11,
   "metadata": {},
   "outputs": [],
   "source": [
    "showimage(images[dig.index(my_dic['Num1.jpg']*my_dic['Num2.jpg'])])\n",
    "#multiplication"
   ]
  },
  {
   "cell_type": "code",
   "execution_count": 12,
   "metadata": {},
   "outputs": [],
   "source": [
    "showimage(images[dig.index(my_dic['Num1.jpg']-my_dic['Num2.jpg'])])\n",
    "#subtraction"
   ]
  },
  {
   "cell_type": "code",
   "execution_count": 15,
   "metadata": {},
   "outputs": [
    {
     "data": {
      "text/plain": [
       "[84, 79, 6636, 5, 163, 27]"
      ]
     },
     "execution_count": 15,
     "metadata": {},
     "output_type": "execute_result"
    }
   ],
   "source": [
    "image_set2=['Num1_1.jpg','Num2_1.jpg','A_1.jpg','B_1.jpg','C_1.jpg','D_1.jpg']\n",
    "dig2=list(map(imago,image_set2))\n",
    "dig2"
   ]
  },
  {
   "cell_type": "code",
   "execution_count": 20,
   "metadata": {},
   "outputs": [],
   "source": [
    "for i in image_set2:\n",
    "    showimage(i)"
   ]
  },
  {
   "cell_type": "code",
   "execution_count": null,
   "metadata": {},
   "outputs": [],
   "source": []
  },
  {
   "cell_type": "code",
   "execution_count": null,
   "metadata": {},
   "outputs": [],
   "source": []
  },
  {
   "cell_type": "code",
   "execution_count": null,
   "metadata": {},
   "outputs": [],
   "source": []
  }
 ],
 "metadata": {
  "kernelspec": {
   "display_name": "Python 3",
   "language": "python",
   "name": "python3"
  },
  "language_info": {
   "codemirror_mode": {
    "name": "ipython",
    "version": 3
   },
   "file_extension": ".py",
   "mimetype": "text/x-python",
   "name": "python",
   "nbconvert_exporter": "python",
   "pygments_lexer": "ipython3",
   "version": "3.7.5"
  }
 },
 "nbformat": 4,
 "nbformat_minor": 2
}
